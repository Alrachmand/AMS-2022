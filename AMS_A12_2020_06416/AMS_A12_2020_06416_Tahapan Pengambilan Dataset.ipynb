{
 "cells": [
  {
   "cell_type": "markdown",
   "id": "82de8d74-908c-4809-b89b-cb24502a2c3d",
   "metadata": {},
   "source": [
    "## UJIAN TENGAH SEMESTER MATA KULIAH ANALITIKA MEDIA SOSIAL\n",
    "\n",
    "Alief Rachmandias Darmawan - A12.2020.06416"
   ]
  },
  {
   "cell_type": "markdown",
   "id": "8fd28249",
   "metadata": {},
   "source": [
    "## Proses Pengambilan Data"
   ]
  },
  {
   "cell_type": "markdown",
   "id": "9407350f",
   "metadata": {},
   "source": [
    "## Pemanggilan Library"
   ]
  },
  {
   "cell_type": "code",
   "execution_count": 2,
   "id": "86c936dd",
   "metadata": {},
   "outputs": [],
   "source": [
    "import pandas as pd\n",
    "import time\n",
    "import tweepy\n",
    "import numpy as np"
   ]
  },
  {
   "cell_type": "code",
   "execution_count": 13,
   "id": "7b0191a6",
   "metadata": {},
   "outputs": [],
   "source": [
    "def twitter_config():\n",
    "    \"\"\"\n",
    "    Fungsi utilitas untuk mengkonfigurasi konsumsi file API Twitter dengan␣\n",
    "    ,!kunci yang disediakan.\n",
    "    \"\"\"\n",
    "    \n",
    "    # Autentikasi dan akses menggunakan keys\n",
    "    auth = tweepy.OAuthHandler(\"1UADF9Zg7Ae7xxF1NhKzeWaJb\", \n",
    "    \"ClVLEU9Chmo5zlHUwg8w08bB9uoJz5zKoLeEeCSqS888rVtdBc\")\n",
    "    auth.set_access_token(\"1073930317692526592-vBbrOpYvdpuY5skFkK86a9eAnl67vh\", \n",
    "    \"WmiH12eTDluSgcSszQJ2jOlNZOmQBqnAwfroqo4AY5R3f\")\n",
    "    \n",
    "    # Kembalikan akses ke API\n",
    "    api = tweepy.API(auth)\n",
    "    try:\n",
    "        api.verify_credentials()\n",
    "        print(\"Authentication OK\")\n",
    "    except:\n",
    "        print(\"Error during authentication\")\n",
    "    return api"
   ]
  },
  {
   "cell_type": "code",
   "execution_count": 14,
   "id": "64232273",
   "metadata": {},
   "outputs": [
    {
     "name": "stdout",
     "output_type": "stream",
     "text": [
      "Authentication OK\n"
     ]
    }
   ],
   "source": [
    "# Membuat extractor object\n",
    "extractor = twitter_config()"
   ]
  },
  {
   "cell_type": "markdown",
   "id": "bb45f3fc",
   "metadata": {},
   "source": [
    "## Ambil tweet dari username\n",
    "Disini saya menggunakan akun twitter dari NarasiNewsroom untuk "
   ]
  },
  {
   "cell_type": "code",
   "execution_count": 34,
   "id": "33095ecc",
   "metadata": {},
   "outputs": [
    {
     "name": "stdout",
     "output_type": "stream",
     "text": [
      "Tweets terambil: 100.\n",
      "\n",
      "100 tweet teratas:\n",
      "\n",
      "Ketua DPP PHRI DKI Jakarta Sutrisno Iwantono bilang, mereka bukan tak setuju dengan substansi melarang perzinahan.… https://t.co/T7Z9Gv9efg\n",
      "\n",
      "Soalnya, RKUHP yang baru berisi pasal perzinahan yang dianggap bisa merugikan industri pariwisata dan perhotelan.\n",
      "\n",
      "| Narasi Daily\n",
      "\n",
      "#Semuabisakena. Inget, kan, sama kampanye penolakan Rancangan Undang-Undang Kitab Hukum Pidana (RKUHP) ini. Kali in… https://t.co/tfZAamEDaR\n",
      "\n",
      "Gugatannya udah kalah. Selanjutnya, Pak Jokowi dan para menterinya harus gimana? Cek di video ya~ \n",
      "\n",
      "| Narasi Daily https://t.co/hGZI2HuXgI\n",
      "\n",
      "Semoga aja amunisi Kominfo bisa efektif buat ngeberantas hoaks di medsos deh ya~ \n",
      "\n",
      "| Narasi Daily https://t.co/35JZVbWkHA\n",
      "\n"
     ]
    }
   ],
   "source": [
    "tweets = extractor.user_timeline(screen_name=\"NarasiNewsroom\", count=100)\n",
    "print(\"Tweets terambil: {}.\\n\".format(len(tweets)))\n",
    "\n",
    "print(\"100 tweet teratas:\\n\")\n",
    "for tweet in tweets[:5]:\n",
    "    print(tweet.text)\n",
    "    print()"
   ]
  },
  {
   "cell_type": "code",
   "execution_count": 35,
   "id": "cd950b09",
   "metadata": {},
   "outputs": [
    {
     "data": {
      "text/html": [
       "<div>\n",
       "<style scoped>\n",
       "    .dataframe tbody tr th:only-of-type {\n",
       "        vertical-align: middle;\n",
       "    }\n",
       "\n",
       "    .dataframe tbody tr th {\n",
       "        vertical-align: top;\n",
       "    }\n",
       "\n",
       "    .dataframe thead th {\n",
       "        text-align: right;\n",
       "    }\n",
       "</style>\n",
       "<table border=\"1\" class=\"dataframe\">\n",
       "  <thead>\n",
       "    <tr style=\"text-align: right;\">\n",
       "      <th></th>\n",
       "      <th>Tweets</th>\n",
       "    </tr>\n",
       "  </thead>\n",
       "  <tbody>\n",
       "    <tr>\n",
       "      <th>0</th>\n",
       "      <td>Ketua DPP PHRI DKI Jakarta Sutrisno Iwantono b...</td>\n",
       "    </tr>\n",
       "    <tr>\n",
       "      <th>1</th>\n",
       "      <td>Soalnya, RKUHP yang baru berisi pasal perzinah...</td>\n",
       "    </tr>\n",
       "    <tr>\n",
       "      <th>2</th>\n",
       "      <td>#Semuabisakena. Inget, kan, sama kampanye peno...</td>\n",
       "    </tr>\n",
       "    <tr>\n",
       "      <th>3</th>\n",
       "      <td>Gugatannya udah kalah. Selanjutnya, Pak Jokowi...</td>\n",
       "    </tr>\n",
       "    <tr>\n",
       "      <th>4</th>\n",
       "      <td>Semoga aja amunisi Kominfo bisa efektif buat n...</td>\n",
       "    </tr>\n",
       "    <tr>\n",
       "      <th>...</th>\n",
       "      <td>...</td>\n",
       "    </tr>\n",
       "    <tr>\n",
       "      <th>95</th>\n",
       "      <td>Kenapa sih maksa banget jadwal pertandingan di...</td>\n",
       "    </tr>\n",
       "    <tr>\n",
       "      <th>96</th>\n",
       "      <td>Kelima terdakwa dalam kasus pembunuhan Yosua t...</td>\n",
       "    </tr>\n",
       "    <tr>\n",
       "      <th>97</th>\n",
       "      <td>Lembaga Perlindungan Saksi dan Korban (LPSK) m...</td>\n",
       "    </tr>\n",
       "    <tr>\n",
       "      <th>98</th>\n",
       "      <td>Eliezer beserta Ferdy Sambo, Putri Candrawathi...</td>\n",
       "    </tr>\n",
       "    <tr>\n",
       "      <th>99</th>\n",
       "      <td>Sidang perdana Bharada Richard Eliezer Pudihan...</td>\n",
       "    </tr>\n",
       "  </tbody>\n",
       "</table>\n",
       "<p>100 rows × 1 columns</p>\n",
       "</div>"
      ],
      "text/plain": [
       "                                               Tweets\n",
       "0   Ketua DPP PHRI DKI Jakarta Sutrisno Iwantono b...\n",
       "1   Soalnya, RKUHP yang baru berisi pasal perzinah...\n",
       "2   #Semuabisakena. Inget, kan, sama kampanye peno...\n",
       "3   Gugatannya udah kalah. Selanjutnya, Pak Jokowi...\n",
       "4   Semoga aja amunisi Kominfo bisa efektif buat n...\n",
       "..                                                ...\n",
       "95  Kenapa sih maksa banget jadwal pertandingan di...\n",
       "96  Kelima terdakwa dalam kasus pembunuhan Yosua t...\n",
       "97  Lembaga Perlindungan Saksi dan Korban (LPSK) m...\n",
       "98  Eliezer beserta Ferdy Sambo, Putri Candrawathi...\n",
       "99  Sidang perdana Bharada Richard Eliezer Pudihan...\n",
       "\n",
       "[100 rows x 1 columns]"
      ]
     },
     "metadata": {},
     "output_type": "display_data"
    }
   ],
   "source": [
    "# Membuat kerangka data menggunakan sintaks berikut\n",
    "dataset = pd.DataFrame(data = [tweet.text for tweet in tweets], columns = ['Tweets'])\n",
    "\n",
    "# Tampilan kerangka data\n",
    "display(dataset.head(100))"
   ]
  },
  {
   "cell_type": "code",
   "execution_count": 36,
   "id": "73709498",
   "metadata": {},
   "outputs": [],
   "source": [
    "dataset.to_csv('dataset_narasi.csv', sep=',')"
   ]
  },
  {
   "cell_type": "markdown",
   "id": "a9f61789",
   "metadata": {},
   "source": [
    "## Tahapan Labelisasi"
   ]
  },
  {
   "cell_type": "code",
   "execution_count": 37,
   "id": "7f53b6e6",
   "metadata": {},
   "outputs": [
    {
     "data": {
      "text/html": [
       "<div>\n",
       "<style scoped>\n",
       "    .dataframe tbody tr th:only-of-type {\n",
       "        vertical-align: middle;\n",
       "    }\n",
       "\n",
       "    .dataframe tbody tr th {\n",
       "        vertical-align: top;\n",
       "    }\n",
       "\n",
       "    .dataframe thead th {\n",
       "        text-align: right;\n",
       "    }\n",
       "</style>\n",
       "<table border=\"1\" class=\"dataframe\">\n",
       "  <thead>\n",
       "    <tr style=\"text-align: right;\">\n",
       "      <th></th>\n",
       "      <th>Unnamed: 0</th>\n",
       "      <th>Tweets</th>\n",
       "      <th>Label</th>\n",
       "    </tr>\n",
       "  </thead>\n",
       "  <tbody>\n",
       "    <tr>\n",
       "      <th>0</th>\n",
       "      <td>0</td>\n",
       "      <td>Ketua DPP PHRI DKI Jakarta Sutrisno Iwantono b...</td>\n",
       "      <td></td>\n",
       "    </tr>\n",
       "    <tr>\n",
       "      <th>1</th>\n",
       "      <td>1</td>\n",
       "      <td>Soalnya, RKUHP yang baru berisi pasal perzinah...</td>\n",
       "      <td></td>\n",
       "    </tr>\n",
       "    <tr>\n",
       "      <th>2</th>\n",
       "      <td>2</td>\n",
       "      <td>#Semuabisakena. Inget, kan, sama kampanye peno...</td>\n",
       "      <td></td>\n",
       "    </tr>\n",
       "    <tr>\n",
       "      <th>3</th>\n",
       "      <td>3</td>\n",
       "      <td>Gugatannya udah kalah. Selanjutnya, Pak Jokowi...</td>\n",
       "      <td></td>\n",
       "    </tr>\n",
       "    <tr>\n",
       "      <th>4</th>\n",
       "      <td>4</td>\n",
       "      <td>Semoga aja amunisi Kominfo bisa efektif buat n...</td>\n",
       "      <td></td>\n",
       "    </tr>\n",
       "  </tbody>\n",
       "</table>\n",
       "</div>"
      ],
      "text/plain": [
       "   Unnamed: 0                                             Tweets Label\n",
       "0           0  Ketua DPP PHRI DKI Jakarta Sutrisno Iwantono b...      \n",
       "1           1  Soalnya, RKUHP yang baru berisi pasal perzinah...      \n",
       "2           2  #Semuabisakena. Inget, kan, sama kampanye peno...      \n",
       "3           3  Gugatannya udah kalah. Selanjutnya, Pak Jokowi...      \n",
       "4           4  Semoga aja amunisi Kominfo bisa efektif buat n...      "
      ]
     },
     "execution_count": 37,
     "metadata": {},
     "output_type": "execute_result"
    }
   ],
   "source": [
    "df = pd.read_csv('dataset_narasi.csv', sep=',')\n",
    "\n",
    "df['Label'] = ''\n",
    "\n",
    "df.to_csv('dataset_narasi_label.csv', sep=',')\n",
    "\n",
    "df.head()"
   ]
  },
  {
   "cell_type": "markdown",
   "id": "2610024a-9b7c-4899-b1a2-c2f9e584a682",
   "metadata": {},
   "source": [
    "Pada tahap ini saya melakukan labelisasi secara manual, dengan menggunakan 2 parameter yakni politik yang diwakili oleh kode angka '1' dan parameter non politik yang diwakili oleh kode angka '0'."
   ]
  },
  {
   "cell_type": "code",
   "execution_count": 3,
   "id": "b0a7100b-aa41-4af4-8804-b27478589eae",
   "metadata": {},
   "outputs": [
    {
     "data": {
      "text/html": [
       "<div>\n",
       "<style scoped>\n",
       "    .dataframe tbody tr th:only-of-type {\n",
       "        vertical-align: middle;\n",
       "    }\n",
       "\n",
       "    .dataframe tbody tr th {\n",
       "        vertical-align: top;\n",
       "    }\n",
       "\n",
       "    .dataframe thead th {\n",
       "        text-align: right;\n",
       "    }\n",
       "</style>\n",
       "<table border=\"1\" class=\"dataframe\">\n",
       "  <thead>\n",
       "    <tr style=\"text-align: right;\">\n",
       "      <th></th>\n",
       "      <th>Column1</th>\n",
       "      <th>Unnamed: 0</th>\n",
       "      <th>Tweets</th>\n",
       "      <th>Label</th>\n",
       "    </tr>\n",
       "  </thead>\n",
       "  <tbody>\n",
       "    <tr>\n",
       "      <th>0</th>\n",
       "      <td>0</td>\n",
       "      <td>0</td>\n",
       "      <td>Ketua DPP PHRI DKI Jakarta Sutrisno Iwantono b...</td>\n",
       "      <td>1</td>\n",
       "    </tr>\n",
       "    <tr>\n",
       "      <th>1</th>\n",
       "      <td>1</td>\n",
       "      <td>1</td>\n",
       "      <td>Soalnya, RKUHP yang baru berisi pasal perzinah...</td>\n",
       "      <td>1</td>\n",
       "    </tr>\n",
       "    <tr>\n",
       "      <th>2</th>\n",
       "      <td>2</td>\n",
       "      <td>2</td>\n",
       "      <td>#Semuabisakena. Inget, kan, sama kampanye peno...</td>\n",
       "      <td>1</td>\n",
       "    </tr>\n",
       "    <tr>\n",
       "      <th>3</th>\n",
       "      <td>3</td>\n",
       "      <td>3</td>\n",
       "      <td>Gugatannya udah kalah. Selanjutnya, Pak Jokowi...</td>\n",
       "      <td>1</td>\n",
       "    </tr>\n",
       "    <tr>\n",
       "      <th>4</th>\n",
       "      <td>4</td>\n",
       "      <td>4</td>\n",
       "      <td>Semoga aja amunisi Kominfo bisa efektif buat n...</td>\n",
       "      <td>0</td>\n",
       "    </tr>\n",
       "  </tbody>\n",
       "</table>\n",
       "</div>"
      ],
      "text/plain": [
       "   Column1  Unnamed: 0                                             Tweets  \\\n",
       "0        0           0  Ketua DPP PHRI DKI Jakarta Sutrisno Iwantono b...   \n",
       "1        1           1  Soalnya, RKUHP yang baru berisi pasal perzinah...   \n",
       "2        2           2  #Semuabisakena. Inget, kan, sama kampanye peno...   \n",
       "3        3           3  Gugatannya udah kalah. Selanjutnya, Pak Jokowi...   \n",
       "4        4           4  Semoga aja amunisi Kominfo bisa efektif buat n...   \n",
       "\n",
       "   Label  \n",
       "0      1  \n",
       "1      1  \n",
       "2      1  \n",
       "3      1  \n",
       "4      0  "
      ]
     },
     "execution_count": 3,
     "metadata": {},
     "output_type": "execute_result"
    }
   ],
   "source": [
    "df = pd.read_csv('dataset_narasi_fixlabel.csv', sep=';')\n",
    "\n",
    "df.head()"
   ]
  }
 ],
 "metadata": {
  "kernelspec": {
   "display_name": "Python 3 (ipykernel)",
   "language": "python",
   "name": "python3"
  },
  "language_info": {
   "codemirror_mode": {
    "name": "ipython",
    "version": 3
   },
   "file_extension": ".py",
   "mimetype": "text/x-python",
   "name": "python",
   "nbconvert_exporter": "python",
   "pygments_lexer": "ipython3",
   "version": "3.9.12"
  }
 },
 "nbformat": 4,
 "nbformat_minor": 5
}
